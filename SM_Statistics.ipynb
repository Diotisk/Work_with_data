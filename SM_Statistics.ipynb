{
 "cells": [
  {
   "cell_type": "code",
   "execution_count": null,
   "metadata": {
    "collapsed": true
   },
   "outputs": [],
   "source": [
    "# This is a cell to hide code snippets from displaying (from stackoverflow)\n",
    "# This must be at first cell!\n",
    "\n",
    "from IPython.display import HTML\n",
    "\n",
    "hide_me = ''\n",
    "HTML('''<script>\n",
    "code_show=true; \n",
    "function code_toggle() {\n",
    "  if (code_show) {\n",
    "    $('div.input').each(function(id) {\n",
    "      el = $(this).find('.cm-variable:first');\n",
    "      if (id == 0 || el.text() == 'hide_me') {\n",
    "        $(this).hide();\n",
    "      }\n",
    "    });\n",
    "    $('div.output_prompt').css('opacity', 0);\n",
    "  } else {\n",
    "    $('div.input').each(function(id) {\n",
    "      $(this).show();\n",
    "    });\n",
    "    $('div.output_prompt').css('opacity', 1);\n",
    "  }\n",
    "  code_show = !code_show\n",
    "} \n",
    "$( document ).ready(code_toggle);\n",
    "</script>\n",
    "<form action=\"javascript:code_toggle()\"><input style=\"opacity:0\" type=\"submit\" value=\"Click here to toggle on/off the raw code.\"></form>''')"
   ]
  },
  {
   "cell_type": "code",
   "execution_count": null,
   "metadata": {
    "collapsed": true
   },
   "outputs": [],
   "source": [
    "import chardet\n",
    "import csv\n",
    "import os\n",
    "import pandas as pd\n",
    "import matplotlib.pyplot as plt\n",
    "import numpy as np\n",
    "%matplotlib inline"
   ]
  },
  {
   "cell_type": "code",
   "execution_count": null,
   "metadata": {
    "collapsed": true
   },
   "outputs": [],
   "source": [
    "def read_stat(file_path):\n",
    "    with open(file_path) as file:\n",
    "        content = csv.reader(file)\n",
    "    return content"
   ]
  },
  {
   "cell_type": "markdown",
   "metadata": {},
   "source": [
    "# Twitter"
   ]
  },
  {
   "cell_type": "markdown",
   "metadata": {},
   "source": [
    "# Twitter Posts"
   ]
  },
  {
   "cell_type": "code",
   "execution_count": null,
   "metadata": {},
   "outputs": [],
   "source": [
    "basic_stat = pd.read_csv(\"\")\n",
    "video_stat = pd.read_csv(\"\")\n",
    "video_stat[\"Тип\"] = \"Video\"\n",
    "for i in video_stat[\"Video Id\"]:\n",
    "    video_stat.replace(i, i[2:], inplace=True)\n",
    "video_stat2 = video_stat.rename(columns={\"Video Id\" : \"Tweet ID\"})\n",
    "all_stat = pd.concat([basic_stat, video_stat2], axis=1)"
   ]
  },
  {
   "cell_type": "code",
   "execution_count": null,
   "metadata": {},
   "outputs": [],
   "source": [
    "nonvideos_stat = all_stat[all_stat[\"Тип\"] == \"Video\"]\n",
    "nonvideos_stat"
   ]
  },
  {
   "cell_type": "code",
   "execution_count": null,
   "metadata": {},
   "outputs": [],
   "source": [
    "nonvideos_stat.columns.values"
   ]
  },
  {
   "cell_type": "code",
   "execution_count": null,
   "metadata": {
    "collapsed": true
   },
   "outputs": [],
   "source": [
    "tweets_stat = pd.read_csv(\"\").filter([\"Tweet ID\", \"Tweet-Text\", \"Impressions\", \"Retweets\", \"„Gefällt mir“-Angaben\"])\n",
    "tweets_stat[\"Вовлеченность (доля взаимодействий от количества просмотров)\"] = ((tweets_stat[\"Retweets\"] + tweets_stat[\"„Gefällt mir“-Angaben\"]) / \n",
    "                                                                               tweets_stat[\"Impressions\"]) * 100\n",
    "tweets_stat[\"Реакции (лайки и ретвиты)\"] = tweets_stat[\"Retweets\"] + tweets_stat[\"„Gefällt mir“-Angaben\"]\n",
    "final_tweets_stat = tweets_stat.filter([\"Tweet ID\", \"Tweet-Text\", \"Вовлеченность (доля взаимодействий от количества просмотров)\", \"Реакции (лайки и ретвиты)\"])\n",
    "final_tweets_stat.columns = [\"ID\", \"Текст твита\", \"Вовлеченность (доля взаимодействий от количества просмотров)\", \"Реакции (лайки и ретвиты)\"]"
   ]
  },
  {
   "cell_type": "code",
   "execution_count": null,
   "metadata": {},
   "outputs": [],
   "source": [
    "top_ten = final_tweets_stat.round(2).sort_values(by=\"Вовлеченность (доля взаимодействий от количества просмотров)\", ascending=False).head(20)\n",
    "top_ten"
   ]
  },
  {
   "cell_type": "markdown",
   "metadata": {},
   "source": [
    "# Twitter Videos"
   ]
  },
  {
   "cell_type": "code",
   "execution_count": null,
   "metadata": {},
   "outputs": [],
   "source": [
    "twvideos_stat = pd.read_csv(\"\").filter([\"Video Id\", \"date\", \"minutes viewed\", \"completion rate\"])\n",
    "for i in twvideos_stat[\"Video Id\"]:\n",
    "    twvideos_stat.replace(i, i[2:], inplace=True)\n",
    "twvideos_stat.columns = [\"Video Id\", \"Общее время просмотра, минуты\", \"Доля просмотров до конца видео\"]\n",
    "twvideos_stat.sort_values(by=\"Общее время просмотра, минуты\", ascending=False)"
   ]
  },
  {
   "cell_type": "markdown",
   "metadata": {},
   "source": [
    "# Facebook"
   ]
  },
  {
   "cell_type": "code",
   "execution_count": null,
   "metadata": {},
   "outputs": [],
   "source": [
    "fb_all_pagestat = pd.read_csv(\"\")\n",
    "fb_pagestat = fb_all_pagestat.filter([\"Общий охват за неделю\", \"Всего показов за неделю\", \"Взаимодействия с публикациями за день\", \"Подписки за все время\", \"Количество новых подписчиков за день\", \"Количество новых отписок за день\"])\n",
    "week_reach = int(fb_pagestat.loc[7, \"Общий охват за неделю\"])\n",
    "week_impressions = float(fb_pagestat.loc[7, \"Всего показов за неделю\"])\n",
    "week_interactions = pd.to_numeric(fb_pagestat[\"Взаимодействия с публикациями за день\"], errors=\"coerce\").sum()\n",
    "all_subscribers = fb_pagestat.loc[7, \"Подписки за все время\"]\n",
    "new_subscribers = pd.to_numeric(fb_pagestat[\"Количество новых подписчиков за день\"], errors=\"coerce\").sum()\n",
    "lost_subscribers = pd.to_numeric(fb_pagestat[\"Количество новых отписок за день\"], errors=\"coerce\").sum()\n",
    "interaction_rate = round((week_interactions / week_impressions) * 100)\n",
    "print(\"Подписчики: {}, +{}, -{}\".format(all_subscribers, int(new_subscribers), int(lost_subscribers)))\n",
    "print(\"Общий охват: {} уникальных пользователей\".format(week_reach))\n",
    "print(\"Средний уровень вовлеченности: {}%\".format(interaction_rate))"
   ]
  },
  {
   "cell_type": "code",
   "execution_count": null,
   "metadata": {},
   "outputs": [],
   "source": [
    "fb_basic_stat = pd.read_csv(\"\")\n",
    "fb_basic_stat.filter([\"Публикация сообщения\", \"Тип\", \"Общий охват публикации за весь срок действия\"])"
   ]
  },
  {
   "cell_type": "markdown",
   "metadata": {},
   "source": [
    "# Facebook Links & Photos"
   ]
  },
  {
   "cell_type": "code",
   "execution_count": null,
   "metadata": {},
   "outputs": [],
   "source": [
    "#общая статистика\n",
    "fb_basic_stat = pd.read_csv(\"\").filter([\"Публикация сообщения\", \"Тип\", \"Общий охват публикации за весь срок действия\"])\n",
    "fb_basic_stat_numeric = pd.to_numeric(fb_basic_stat[\"Общий охват публикации за весь срок действия\"], errors=\"coerce\")\n",
    "fb_basic_stat[\"Общий охват публикации за весь срок действия\"] = fb_basic_stat_numeric\n",
    "fb_basic_stat[\"Реакции\"] = [0, 1700, 874, 84, 208, 523, 709, 2100, 429, 691, 324, 201, 208, 6800, 975, 315, 3500, 319, 311, 761, 128, 154, 1200, 629, 369, 139, 86, 77, 181, 221, 489, 123, 312, 816, 230, 347, 286, 60, 1100, 333, 0, 416, 229, 155, 1500, 733, 528, 194, 2900, 710, 1500, 0, 0, 0, 0, 0, 0, 0]\n",
    "fb_basic_stat[\"Вовлеченность\"] = (fb_basic_stat[\"Реакции\"] / fb_basic_stat[\"Общий охват публикации за весь срок действия\"]) * 100\n",
    "fb_basic_stat"
   ]
  },
  {
   "cell_type": "code",
   "execution_count": null,
   "metadata": {},
   "outputs": [],
   "source": [
    "#общая статистика по линкам и фото\n",
    "fb_link = fb_basic_stat[fb_basic_stat[\"Тип\"] == \"Link\"]\n",
    "fb_photo = fb_basic_stat[fb_basic_stat[\"Тип\"] == \"Photo\"]\n",
    "fb_link_photo_stat = fb_link.append(fb_photo)\n",
    "fb_link_photo_stat"
   ]
  },
  {
   "cell_type": "markdown",
   "metadata": {},
   "source": [
    "__Топ-10 лучших__"
   ]
  },
  {
   "cell_type": "code",
   "execution_count": null,
   "metadata": {},
   "outputs": [],
   "source": [
    "fb_link_photo_stat.sort_values(by=\"Вовлеченность\", ascending=False).head(10)"
   ]
  },
  {
   "cell_type": "markdown",
   "metadata": {},
   "source": [
    "# Facebook Videos"
   ]
  },
  {
   "cell_type": "code",
   "execution_count": null,
   "metadata": {
    "collapsed": true
   },
   "outputs": [],
   "source": [
    "#статистика по охвату и времени просмотра\n",
    "fb_post_stat = pd.read_csv(\"\")\n",
    "fb_videos = fb_post_stat[fb_post_stat[\"Тип\"] == \"Video\"]\n",
    "fb_shared = fb_post_stat[fb_post_stat[\"Тип\"] == \"SharedVideo\"]\n",
    "fb_all_videos = fb_videos.append(fb_shared)\n",
    "fb_videos_stat = fb_all_videos.filter([\"Публикация сообщения\", \"Постоянная ссылка\", \"Тип\", \"Общий охват публикации за весь срок действия\", \"Общее время просмотра видео за весь срок действия (в мс)\"])"
   ]
  },
  {
   "cell_type": "code",
   "execution_count": null,
   "metadata": {
    "collapsed": true
   },
   "outputs": [],
   "source": [
    "#статистика по реакциям и просмотрам до 95%\n",
    "fb_video = pd.read_csv(\"\")\n",
    "fb_video.fillna(0, inplace=True)\n",
    "comments = pd.to_numeric(fb_video[\"Срок действия, Обсуждают это (Публикация), с сортировкой по типу действия - comment\"], errors=\"coerce\")\n",
    "likes = pd.to_numeric(fb_video[\"Срок действия, Обсуждают это (Публикация), с сортировкой по типу действия - like\"], errors=\"coerce\")\n",
    "shares = pd.to_numeric(fb_video[\"Срок действия, Обсуждают это (Публикация), с сортировкой по типу действия - share\"], errors=\"coerce\")\n",
    "reactions = comments + likes + shares\n",
    "fb_video[\"Реакции\"] = reactions\n",
    "fb_reactions = fb_video.filter([\"Публикация сообщения\", \"Постоянная ссылка\", \"Тип\", \"Реакции\", \"Срок действия, Уникальные просмотры до 95 %\"])"
   ]
  },
  {
   "cell_type": "code",
   "execution_count": null,
   "metadata": {
    "collapsed": true
   },
   "outputs": [],
   "source": [
    "fb_video_all_stat = pd.merge(fb_videos_stat, fb_reactions, on=[\"Публикация сообщения\", \"Постоянная ссылка\", \"Тип\"])\n",
    "watch_time_ms = pd.to_numeric(fb_video_all_stat[\"Общее время просмотра видео за весь срок действия (в мс)\"])\n",
    "watch_time_min = round(watch_time_ms / 60000)\n",
    "fb_video_all_stat[\"Время просмотра в минутах\"] = watch_time_min\n",
    "watchend_numeric = pd.to_numeric(fb_video_all_stat[\"Срок действия, Уникальные просмотры до 95 %\"])\n",
    "reach = pd.to_numeric(fb_video_all_stat[\"Общий охват публикации за весь срок действия\"])\n",
    "fb_video_all_stat[\"Вовлеченность\"] = round((fb_video_all_stat[\"Реакции\"] / reach) * 100)\n",
    "watch_end = round((watchend_numeric / reach) * 100)\n",
    "fb_video_all_stat[\"Доля глубоких просмотров\"] = watch_end\n",
    "end_vidfbstat = fb_video_all_stat.filter([\"Публикация сообщения\", \"Постоянная ссылка\", \"Тип\", \"Общий охват публикации за весь срок действия\", \"Время просмотра в минутах\", \"Доля глубоких просмотров\", \"Реакции\", \"Вовлеченность\"])"
   ]
  },
  {
   "cell_type": "code",
   "execution_count": null,
   "metadata": {},
   "outputs": [],
   "source": [
    "end_vidfbstat"
   ]
  },
  {
   "cell_type": "markdown",
   "metadata": {},
   "source": [
    "__Топ-10 лучших__"
   ]
  },
  {
   "cell_type": "code",
   "execution_count": null,
   "metadata": {},
   "outputs": [],
   "source": [
    "end_vidfbstat.filter([\"Публикация сообщения\", \"Время просмотра в минутах\", \"Доля глубоких просмотров\", \"Вовлеченность\", \"Реакции\"]).sort_values(\"Время просмотра в минутах\", ascending=False).head(10)"
   ]
  },
  {
   "cell_type": "markdown",
   "metadata": {},
   "source": [
    "# Вконтакте"
   ]
  },
  {
   "cell_type": "code",
   "execution_count": null,
   "metadata": {},
   "outputs": [],
   "source": [
    "vk_pagestat = pd.read_csv(\"\")\n",
    "vk_new_lost = vk_pagestat[vk_pagestat[\"Критерий\"] == \"members\"]\n",
    "vk_new_lost_sum = vk_new_lost.groupby(\"Парам. №1\").sum()\n",
    "#print(vk_new_lost_sum)\n",
    "print(\"Всего подписчиков: , +{}, -{}\".format(vk_new_lost_sum.loc[\"Новые участники\", \"Значение\"], vk_new_lost_sum.loc[\"Вышедшие участники\", \"Значение\"]))\n",
    "#print(\"Новые подписчики: {}\".format(vk_new_lost_sum.loc[\"Новые участники\", \"Значение\"]))\n",
    "#print(\"Вшедшие подписчики: {}\".format(vk_new_lost_sum.loc[\"Вышедшие участники\", \"Значение\"]))\n"
   ]
  },
  {
   "cell_type": "code",
   "execution_count": null,
   "metadata": {},
   "outputs": [],
   "source": [
    "vk_reach = vk_pagestat[vk_pagestat[\"Критерий\"] == \"reach\"].groupby(\"Критерий\").sum()\n",
    "print(\"Охват: {}\".format(vk_reach.loc[\"reach\", \"Значение\"]))"
   ]
  },
  {
   "cell_type": "code",
   "execution_count": null,
   "metadata": {
    "collapsed": true
   },
   "outputs": [],
   "source": [
    "def decode_vkstat(file_path):\n",
    "    with open(file_path, \"rb\") as file:\n",
    "        content = file.read()\n",
    "        result = chardet.detect(content)\n",
    "        end_file = content.decode(result[\"encoding\"])\n",
    "    \n",
    "    with open(file_path, \"w\") as file:\n",
    "        file.write(end_file)\n",
    "    \n",
    "    with open(file_path) as file:\n",
    "        data = csv.reader(file)\n",
    "    \n",
    "    stat = pd.read_csv(file_path)\n",
    "    return stat"
   ]
  },
  {
   "cell_type": "code",
   "execution_count": null,
   "metadata": {
    "collapsed": true
   },
   "outputs": [],
   "source": [
    "vk_posts = decode_vkstat(\"\")\n",
    "vk_posts_stat = vk_posts.filter([\"Запись\", \"Ссылка\", \"Полный охват\", \"Мне нравится\", \"Поделились\", \"Комментариев\", \"Скрыли запись\", \"Жалобы\", \"Скрыли все записи\"])\n",
    "vk_positive_reactions = vk_posts_stat[\"Мне нравится\"] + vk_posts_stat[\"Поделились\"] + vk_posts_stat[\"Комментариев\"]\n",
    "vk_negative_reactions = vk_posts_stat[\"Скрыли запись\"] + vk_posts_stat[\"Жалобы\"] + vk_posts_stat[\"Скрыли все записи\"]\n",
    "vk_posts_stat[\"Положительные реакции\"] = vk_positive_reactions\n",
    "vk_posts_stat[\"Негативные реакции\"] = vk_negative_reactions\n",
    "vk_interaction_rate = round((vk_posts_stat[\"Положительные реакции\"] / vk_posts_stat[\"Полный охват\"]) * 100)\n",
    "vk_posts_stat[\"Степень вовлеченности\"] = vk_interaction_rate"
   ]
  },
  {
   "cell_type": "markdown",
   "metadata": {},
   "source": [
    "__Топ-10 лучших__"
   ]
  },
  {
   "cell_type": "code",
   "execution_count": null,
   "metadata": {},
   "outputs": [],
   "source": [
    "vk_posts_stat.filter([\"Запись\", \"Степень вовлеченности\", \"Положительные реакции\"]).sort_values(\"Степень вовлеченности\", ascending=False).head(10)"
   ]
  },
  {
   "cell_type": "markdown",
   "metadata": {},
   "source": [
    "__Топ-10 худших__"
   ]
  },
  {
   "cell_type": "code",
   "execution_count": null,
   "metadata": {},
   "outputs": [],
   "source": [
    "vk_posts_stat.filter([\"Запись\", \"Ссылка\", \"Полный охват\", \"Степень вовлеченности\", \"Положительные реакции\", \"Негативные реакции\"]).sort_values(\"Положительные реакции\", ascending=True).head(5)"
   ]
  },
  {
   "cell_type": "markdown",
   "metadata": {
    "collapsed": true
   },
   "source": [
    "# Youtube"
   ]
  },
  {
   "cell_type": "code",
   "execution_count": null,
   "metadata": {},
   "outputs": [],
   "source": [
    "youtube = pd.read_csv(\"\").filter([\"video_title\", \"watch_time_minutes\", \"average_percentage_viewed\"])\n",
    "youtube.sort_values(by=\"watch_time_minutes\", ascending=False).head(5)"
   ]
  }
 ],
 "metadata": {
  "kernelspec": {
   "display_name": "Python 3",
   "language": "python",
   "name": "python3"
  },
  "language_info": {
   "codemirror_mode": {
    "name": "ipython",
    "version": 3
   },
   "file_extension": ".py",
   "mimetype": "text/x-python",
   "name": "python",
   "nbconvert_exporter": "python",
   "pygments_lexer": "ipython3",
   "version": "3.6.3"
  }
 },
 "nbformat": 4,
 "nbformat_minor": 2
}
